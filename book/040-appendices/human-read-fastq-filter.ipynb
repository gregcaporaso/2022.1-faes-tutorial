{
 "cells": [
  {
   "cell_type": "markdown",
   "metadata": {},
   "source": [
    "# Human sequence read filtering from fastq files\n",
    "\n",
    "This notebook applies a human read filter to a directory of fastq files and outputs new fastq files that exclude any sequences that had matches to the human genome. This was developed to prepare the data that is imported in the _Upstream_ tutorial and is not extensively tested. It should therefore be treated only as an example - not production-ready software. The development of this workflow was informed by [Qiita's host filtering workflow](https://github.com/qiita-spots/qp-shogun/blob/c1f3183c8003c809a8b7fd3cf2bdc082233c372d/notebooks/host_filtering.rst), and the [bowtie2](http://bowtie-bio.sourceforge.net/bowtie2/index.shtml), [samtools](http://samtools.sourceforge.net/), and [bedtools](https://bedtools.readthedocs.io/en/latest/) documentation.\n",
    "\n",
    "The data that was used as input to this workflow is not publicly available. Of the approximately 1,850,000 paired-end sequences that were provided as input, about 20 of them had hits to the human genome. About half of these were to mitochondrial sequences, which is expected since the mitochondrial SSU rRNA is a 16S (not 18S) sequence. The others were hits to chromosomal DNA.\n",
    "\n",
    "\n",
    "The following is run in an environment built as follows:\n",
    "\n",
    "```\n",
    "conda create -n samtools -c conda-forge -c bioconda samtools bedtools bowtie2\n",
    "```"
   ]
  },
  {
   "cell_type": "code",
   "execution_count": null,
   "metadata": {},
   "outputs": [],
   "source": [
    "import glob\n",
    "import os.path\n",
    "import os\n",
    "import tempfile\n",
    "import collections\n",
    "\n",
    "input_dir = 'fastq'\n",
    "output_dir = 'filtered-fastq'\n",
    "log_dir = 'logs'\n",
    "\n",
    "fps = glob.glob(os.path.join(input_dir, '*fastq.gz'))\n",
    "\n"
   ]
  },
  {
   "cell_type": "code",
   "execution_count": null,
   "metadata": {},
   "outputs": [],
   "source": [
    "def sort_paired_end_read_files(files):\n",
    "    if '_R1_' in files[0]:\n",
    "        return files[0], files[1]\n",
    "    elif '_R2_' in files[0]:\n",
    "        return files[1], files[0]\n",
    "    else:\n",
    "        raise ValueError(\"Can't sort files:\\n %s\\n %s\" % (files[0], files[1]))\n",
    "\n",
    "sample_id_to_filenames = collections.defaultdict(list)\n",
    "\n",
    "for fp in fps:\n",
    "    fn = os.path.split(fp)[1]\n",
    "    sample_id = fn.split('_')[0]\n",
    "    sample_id_to_filenames[sample_id].append(fn) \n",
    "\n",
    "for sample_id, filenames in sample_id_to_filenames.items():\n",
    "    n_files = len(filenames)\n",
    "    if n_files != 2:\n",
    "        raise ValueError('Incorrect number of files available (n=%d) for sample %s.' % (n_files, sample_id))\n",
    "\n",
    "for sample_id, filenames in sample_id_to_filenames.items():\n",
    "    forward_read_fn, reverse_read_fn = sort_paired_end_read_files(filenames)\n",
    "    forward_read_fp = os.path.join(input_dir, forward_read_fn)\n",
    "    reverse_read_fp = os.path.join(input_dir, reverse_read_fn)\n",
    "    forward_read_output_fp = os.path.join(output_dir, forward_read_fn).replace('.gz', '')\n",
    "    reverse_read_output_fp = os.path.join(output_dir, reverse_read_fn).replace('.gz', '')\n",
    "    sam_f_name = os.path.join(log_dir, '%s.sam' % sample_id)\n",
    "    bam_f_name = os.path.join(log_dir, '%s.bam' % sample_id)\n",
    "    \n",
    "    !bowtie2 -p 1 -x hg19/hg19 --very-sensitive -1 $forward_read_fp -2 $reverse_read_fp -S $sam_f_name 2> /dev/null\n",
    "    !samtools view -f 4 -F 256 -o $bam_f_name -b $sam_f_name 2> /dev/null\n",
    "    !bedtools bamtofastq -i $bam_f_name -fq $forward_read_output_fp -fq2 $reverse_read_output_fp\n",
    "    !gzip -f $forward_read_output_fp\n",
    "    !gzip -f $reverse_read_output_fp\n",
    "    \n",
    "    "
   ]
  },
  {
   "cell_type": "code",
   "execution_count": null,
   "metadata": {},
   "outputs": [],
   "source": []
  }
 ],
 "metadata": {
  "kernelspec": {
   "display_name": "Python 3 (ipykernel)",
   "language": "python",
   "name": "python3"
  },
  "language_info": {
   "codemirror_mode": {
    "name": "ipython",
    "version": 3
   },
   "file_extension": ".py",
   "mimetype": "text/x-python",
   "name": "python",
   "nbconvert_exporter": "python",
   "pygments_lexer": "ipython3",
   "version": "3.9.9"
  }
 },
 "nbformat": 4,
 "nbformat_minor": 2
}
